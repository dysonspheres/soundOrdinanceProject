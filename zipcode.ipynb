{
 "cells": [
  {
   "cell_type": "code",
   "execution_count": 17,
   "id": "f08dca12",
   "metadata": {},
   "outputs": [],
   "source": [
    "import pandas as pd\n",
    "import sklearn"
   ]
  },
  {
   "cell_type": "code",
   "execution_count": null,
   "id": "2b4ddb68",
   "metadata": {},
   "outputs": [
    {
     "data": {
      "text/plain": [
       "Index(['SUB_TYPE', 'EVENT_MONTH', 'AMPLIFIED_SOUND_DISTRICT', 'EVENT_YEAR',\n",
       "       'CAPACITY', 'DECIBEL_LEVEL', 'END_HOURS_CONC_POUR_MON_SAT',\n",
       "       'END_HOURS_NEAR_HOME_FRI_SAT', 'END_HOURS_NEAR_HOME_SUN_THUR',\n",
       "       'END_HOURS_NOT_NEAR_HOME', 'EXISTING_ZONING', 'EXPIRATION_DATE',\n",
       "       'IN_DATE', 'ISSUE_DATE', 'ISSUED_BY', 'OMV_FRI_END_TIME',\n",
       "       'OMV_FRI_START_TIME', 'OMV_MON_END_TIME', 'OMV_MON_START_TIME',\n",
       "       'OMV_SAT_END_TIME', 'OMV_SAT_START_TIME', 'OMV_SUN_END_TIME',\n",
       "       'OMV_SUN_START_TIME', 'OMV_THU_END_TIME', 'OMV_THU_START_TIME',\n",
       "       'OMV_TUE_END_TIME', 'OMV_TUE_START_TIME', 'OMV_WED_END_TIME',\n",
       "       'OMV_WED_START_TIME', 'REST_51_PERCENT_FOOD_SALES', 'SQUARE_FOOTAGE',\n",
       "       'START_DATE', 'MULTIPLE_START_DATES', 'START_HOURS_CONC_POUR_MON_SAT',\n",
       "       'START_HOURS_NEAR_HOME_FRI_SAT', 'START_HOURS_NEAR_HOME_SUN_THUR',\n",
       "       'START_HOURS_NOT_NEAR_HOME', 'STATUS', 'STREET_ADDRESS', 'ZIPCODE',\n",
       "       'LATITUDE', 'LONGITUDE', 'COUNCIL_DISTRICT', 'time_diff', 'in_mon',\n",
       "       'issue_mon', 'in_year', 'issue_year'],\n",
       "      dtype='object')"
      ]
     },
     "execution_count": 5,
     "metadata": {},
     "output_type": "execute_result"
    }
   ],
   "source": [
    "df = pd.read_csv(\"df_times_cleaned.csv\")\n",
    "df.columns"
   ]
  },
  {
   "cell_type": "code",
   "execution_count": 15,
   "id": "ab455df7",
   "metadata": {},
   "outputs": [
    {
     "data": {
      "text/plain": [
       "6023"
      ]
     },
     "execution_count": 15,
     "metadata": {},
     "output_type": "execute_result"
    }
   ],
   "source": [
    "df_encoded = pd.get_dummies(df['ZIPCODE'], prefix='ZIP', drop_first=True)\n",
    "\n",
    "df_encoded.shape[0] # this is just the zipcodes"
   ]
  },
  {
   "cell_type": "code",
   "execution_count": null,
   "id": "25dcf89d",
   "metadata": {},
   "outputs": [
    {
     "name": "stdout",
     "output_type": "stream",
     "text": [
      "Overall R² score: -1.305236824269084e+21\n",
      "Overall RMSE: 2017470938503.8958\n"
     ]
    }
   ],
   "source": [
    "from sklearn.model_selection import train_test_split, cross_val_predict\n",
    "from sklearn.linear_model import LinearRegression\n",
    "from sklearn.metrics import root_mean_squared_error, r2_score\n",
    "\n",
    "X_train, X_test, y_train, y_test = train_test_split(df_encoded, df['time_diff'], test_size=0.2, random_state=42)\n",
    "model = LinearRegression()\n",
    "model.fit(X_train, y_train)\n",
    "\n",
    "\n",
    "y_pred = model.predict(X_test)\n",
    "\n",
    "print(\"RMSE:\", root_mean_squared_error(y_test, y_pred))\n",
    "print(\"R² Score:\", r2_score(y_test, y_pred))\n",
    "\n",
    "'''\n",
    "\n",
    "y_pred_cv = cross_val_predict(model, df_encoded, df['time_diff'], cv=5)\n",
    "\n",
    "print(\"Overall R² score:\", r2_score(df['time_diff'], y_pred_cv))\n",
    "print(\"Overall RMSE:\", root_mean_squared_error(df['time_diff'], y_pred_cv))\n",
    "'''"
   ]
  },
  {
   "cell_type": "code",
   "execution_count": null,
   "id": "453ab1b6",
   "metadata": {},
   "outputs": [],
   "source": []
  }
 ],
 "metadata": {
  "kernelspec": {
   "display_name": "base",
   "language": "python",
   "name": "python3"
  },
  "language_info": {
   "codemirror_mode": {
    "name": "ipython",
    "version": 3
   },
   "file_extension": ".py",
   "mimetype": "text/x-python",
   "name": "python",
   "nbconvert_exporter": "python",
   "pygments_lexer": "ipython3",
   "version": "3.12.7"
  }
 },
 "nbformat": 4,
 "nbformat_minor": 5
}
